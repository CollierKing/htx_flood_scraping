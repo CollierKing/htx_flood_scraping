{
 "cells": [
  {
   "cell_type": "code",
   "execution_count": 245,
   "metadata": {},
   "outputs": [],
   "source": [
    "import pyautogui\n",
    "import time\n",
    "import pandas as pd"
   ]
  },
  {
   "cell_type": "code",
   "execution_count": 317,
   "metadata": {},
   "outputs": [
    {
     "data": {
      "text/plain": [
       "(3107, 6)"
      ]
     },
     "execution_count": 317,
     "metadata": {},
     "output_type": "execute_result"
    }
   ],
   "source": [
    "dir = \"C:/Users/David/Dropbox/Skills/Python/Projects/Real_Estate/htx_real_estate_analysis/\"\n",
    "listings = pd.read_csv(dir+\"HAR_listings170825.csv\")\n",
    "listings = listings.drop_duplicates(subset=\"Page_Address\",keep=\"last\")\n",
    "listings.shape"
   ]
  },
  {
   "cell_type": "code",
   "execution_count": 243,
   "metadata": {},
   "outputs": [],
   "source": [
    "#center of screen\n",
    "pyautogui.size()\n",
    "# (1920, 1080)\n",
    "width, height = pyautogui.size()"
   ]
  },
  {
   "cell_type": "markdown",
   "metadata": {},
   "source": [
    "http://www.harriscountyfemt.org/Index.aspx"
   ]
  },
  {
   "cell_type": "markdown",
   "metadata": {},
   "source": [
    "https://automatetheboringstuff.com/chapter18/"
   ]
  },
  {
   "cell_type": "markdown",
   "metadata": {},
   "source": [
    "## Click And Enter Address"
   ]
  },
  {
   "cell_type": "code",
   "execution_count": 298,
   "metadata": {},
   "outputs": [],
   "source": [
    "#Click into address bar\n",
    "pyautogui.click(20, 220, button='left')\n",
    "\n",
    "#ctrl+a\n",
    "pyautogui.keyDown('ctrl')\n",
    "pyautogui.keyDown('a')\n",
    "pyautogui.keyUp('a')\n",
    "pyautogui.keyUp('ctrl')\n",
    "\n",
    "#press delete\n",
    "pyautogui.press('delete')\n",
    "#enter new address\n",
    "pyautogui.typewrite(\"3111 Wroxton, Houston, TX 77005\")\n",
    "# pyautogui.typewrite(\"1415 Bayou St, Houston, TX 77020\")\n",
    "#press enter\n",
    "pyautogui.press('enter')"
   ]
  },
  {
   "cell_type": "code",
   "execution_count": null,
   "metadata": {
    "collapsed": true
   },
   "outputs": [],
   "source": [
    "#ctrl+a\n",
    "pyautogui.keyDown('ctrl')\n",
    "pyautogui.keyDown('a')\n",
    "pyautogui.keyUp('a')\n",
    "pyautogui.keyUp('ctrl')"
   ]
  },
  {
   "cell_type": "code",
   "execution_count": 297,
   "metadata": {},
   "outputs": [],
   "source": [
    "pyautogui.click(1000, 1500, button='left')\n",
    "pyautogui.dragTo(1000,500)"
   ]
  },
  {
   "cell_type": "code",
   "execution_count": 296,
   "metadata": {
    "collapsed": true
   },
   "outputs": [],
   "source": [
    "pyautogui.keyDown(\"left\")\n",
    "pyautogui.keyUp(\"left\")"
   ]
  },
  {
   "cell_type": "code",
   "execution_count": null,
   "metadata": {
    "collapsed": true
   },
   "outputs": [],
   "source": []
  },
  {
   "cell_type": "code",
   "execution_count": null,
   "metadata": {
    "collapsed": true
   },
   "outputs": [],
   "source": []
  },
  {
   "cell_type": "markdown",
   "metadata": {},
   "source": [
    "## Click out of info-box"
   ]
  },
  {
   "cell_type": "code",
   "execution_count": 269,
   "metadata": {
    "collapsed": true
   },
   "outputs": [],
   "source": [
    "pyautogui.click(1281,708,button=\"left\")\n",
    "pyautogui.click(1445,708,button=\"left\")"
   ]
  },
  {
   "cell_type": "markdown",
   "metadata": {},
   "source": [
    "## Check each corner around location"
   ]
  },
  {
   "cell_type": "code",
   "execution_count": 251,
   "metadata": {},
   "outputs": [],
   "source": [
    "def check_flood_plain_colors(pixelColor):\n",
    "    r = pixelColor1[0]\n",
    "    g = pixelColor1[1]\n",
    "    b = pixelColor1[2]\n",
    "    \n",
    "    try:\n",
    "        del flood_plain\n",
    "    except:\n",
    "        pass\n",
    "\n",
    "    if r >= 170 and r <= 180: #check r\n",
    "        if g >= 200 and g <= 230: #check g\n",
    "            if b >= 190 and b <= 210: #check b\n",
    "                flood_plain = 1\n",
    "\n",
    "    if r >= 110 and r <= 125: #check r\n",
    "        if g >= 170 and g <= 190: #check g\n",
    "            if b >= 230 and b <= 255: #check b\n",
    "                flood_plain = 2\n",
    "\n",
    "    if r >= 0 and r <= 50: #check r\n",
    "        if g >= 0 and g <= 120: #check g\n",
    "            if b >= 230 and b <= 255: #check b\n",
    "                flood_plain = 3\n",
    "\n",
    "    try:\n",
    "        flood_plain\n",
    "    except NameError:\n",
    "        flood_plain = 0\n",
    "        \n",
    "    return flood_plain"
   ]
  },
  {
   "cell_type": "code",
   "execution_count": 239,
   "metadata": {},
   "outputs": [],
   "source": [
    "#corner 1\n",
    "pyautogui.moveTo((1920/2)+106, (1200/2)+98, duration=0.25)\n",
    "x, y = pyautogui.position()\n",
    "pixelColor1 = pyautogui.screenshot().getpixel((x, y))\n",
    "corner1 = check_flood_plain_colors(pixelColor1)\n",
    "#corner 2\n",
    "pyautogui.moveTo((1920/2)+106, (1200/2)+83, duration=0.25)\n",
    "x, y = pyautogui.position()\n",
    "pixelColor2 = pyautogui.screenshot().getpixel((x, y))\n",
    "corner2 = check_flood_plain_colors(pixelColor2)\n",
    "#corner 3\n",
    "pyautogui.moveTo((1920/2)+128, (1200/2)+83, duration=0.25)\n",
    "x, y = pyautogui.position()\n",
    "pixelColor3 = pyautogui.screenshot().getpixel((x, y))\n",
    "corner3 = check_flood_plain_colors(pixelColor3)\n",
    "#corner 4\n",
    "pyautogui.moveTo((1920/2)+128, (1200/2)+98, duration=0.25)\n",
    "x, y = pyautogui.position()\n",
    "pixelColor4 = pyautogui.screenshot().getpixel((x, y))\n",
    "corner4 = check_flood_plain_colors(pixelColor4)"
   ]
  },
  {
   "cell_type": "code",
   "execution_count": 240,
   "metadata": {},
   "outputs": [],
   "source": [
    "desc = max(corner1,corner2,corner3,corner4)"
   ]
  },
  {
   "cell_type": "code",
   "execution_count": 241,
   "metadata": {},
   "outputs": [],
   "source": [
    "try:\n",
    "    del flood_plain_level\n",
    "except:\n",
    "    pass\n",
    "\n",
    "if desc == 0:\n",
    "    flood_plain_level = \"none\"\n",
    "elif desc == 1:\n",
    "    flood_plain_level = \"500 year\"\n",
    "elif desc == 2:\n",
    "    flood_plain_level = \"100 year\"\n",
    "elif desc == 3:\n",
    "    flood_plain_level = \"floodway\""
   ]
  },
  {
   "cell_type": "code",
   "execution_count": 242,
   "metadata": {},
   "outputs": [
    {
     "data": {
      "text/plain": [
       "'500 year'"
      ]
     },
     "execution_count": 242,
     "metadata": {},
     "output_type": "execute_result"
    }
   ],
   "source": [
    "flood_plain_level"
   ]
  },
  {
   "cell_type": "code",
   "execution_count": 318,
   "metadata": {
    "collapsed": true
   },
   "outputs": [],
   "source": [
    "for i in range(50):\n",
    "    k = i*10\n",
    "    pyautogui.click(1100 + k,707,button=\"left\")"
   ]
  },
  {
   "cell_type": "markdown",
   "metadata": {},
   "source": [
    "## Loop"
   ]
  },
  {
   "cell_type": "code",
   "execution_count": 322,
   "metadata": {
    "collapsed": true
   },
   "outputs": [],
   "source": [
    "listings['flood_plain_type'] = \"\"\n",
    "listings['flood_plain_type'] = listings['flood_plain_type'].astype(str)"
   ]
  },
  {
   "cell_type": "code",
   "execution_count": 323,
   "metadata": {},
   "outputs": [
    {
     "data": {
      "text/html": [
       "<div>\n",
       "<style>\n",
       "    .dataframe thead tr:only-child th {\n",
       "        text-align: right;\n",
       "    }\n",
       "\n",
       "    .dataframe thead th {\n",
       "        text-align: left;\n",
       "    }\n",
       "\n",
       "    .dataframe tbody tr th {\n",
       "        vertical-align: top;\n",
       "    }\n",
       "</style>\n",
       "<table border=\"1\" class=\"dataframe\">\n",
       "  <thead>\n",
       "    <tr style=\"text-align: right;\">\n",
       "      <th></th>\n",
       "      <th>Unnamed: 0</th>\n",
       "      <th>Page_Link</th>\n",
       "      <th>Page_Address</th>\n",
       "      <th>Price</th>\n",
       "      <th>Price_Change</th>\n",
       "      <th>Sys_Date</th>\n",
       "      <th>flood_plain_type</th>\n",
       "    </tr>\n",
       "  </thead>\n",
       "  <tbody>\n",
       "    <tr>\n",
       "      <th>9</th>\n",
       "      <td>9</td>\n",
       "      <td>http://www.har.com/5424-san-juan-st/sale_4732748</td>\n",
       "      <td>5424 San Juan St, Houston, TX 77020</td>\n",
       "      <td>120000</td>\n",
       "      <td>None</td>\n",
       "      <td>06/04/2017</td>\n",
       "      <td></td>\n",
       "    </tr>\n",
       "    <tr>\n",
       "      <th>14</th>\n",
       "      <td>14</td>\n",
       "      <td>http://www.har.com/629-hoffman-st/sale_99567748</td>\n",
       "      <td>629 Hoffman St, HOUSTON, TX 77020</td>\n",
       "      <td>139000</td>\n",
       "      <td>None</td>\n",
       "      <td>06/04/2017</td>\n",
       "      <td></td>\n",
       "    </tr>\n",
       "    <tr>\n",
       "      <th>28</th>\n",
       "      <td>28</td>\n",
       "      <td>http://www.har.com/92-fichter-st/sale_39908644</td>\n",
       "      <td>92 Fichter St, Houston, TX 77022</td>\n",
       "      <td>159000</td>\n",
       "      <td>price-reduction</td>\n",
       "      <td>06/04/2017</td>\n",
       "      <td></td>\n",
       "    </tr>\n",
       "    <tr>\n",
       "      <th>40</th>\n",
       "      <td>40</td>\n",
       "      <td>http://www.har.com/4318-cornell-st/sale_43398549</td>\n",
       "      <td>4318 Cornell St, Houston, TX 77022</td>\n",
       "      <td>170000</td>\n",
       "      <td>None</td>\n",
       "      <td>06/04/2017</td>\n",
       "      <td></td>\n",
       "    </tr>\n",
       "    <tr>\n",
       "      <th>49</th>\n",
       "      <td>49</td>\n",
       "      <td>http://www.har.com/4701-cochran/sale_50214204</td>\n",
       "      <td>4701 Cochran, Houston, TX 77009</td>\n",
       "      <td>180000</td>\n",
       "      <td>None</td>\n",
       "      <td>06/04/2017</td>\n",
       "      <td></td>\n",
       "    </tr>\n",
       "  </tbody>\n",
       "</table>\n",
       "</div>"
      ],
      "text/plain": [
       "    Unnamed: 0                                         Page_Link  \\\n",
       "9            9  http://www.har.com/5424-san-juan-st/sale_4732748   \n",
       "14          14   http://www.har.com/629-hoffman-st/sale_99567748   \n",
       "28          28    http://www.har.com/92-fichter-st/sale_39908644   \n",
       "40          40  http://www.har.com/4318-cornell-st/sale_43398549   \n",
       "49          49     http://www.har.com/4701-cochran/sale_50214204   \n",
       "\n",
       "                           Page_Address   Price     Price_Change    Sys_Date  \\\n",
       "9   5424 San Juan St, Houston, TX 77020  120000             None  06/04/2017   \n",
       "14    629 Hoffman St, HOUSTON, TX 77020  139000             None  06/04/2017   \n",
       "28     92 Fichter St, Houston, TX 77022  159000  price-reduction  06/04/2017   \n",
       "40   4318 Cornell St, Houston, TX 77022  170000             None  06/04/2017   \n",
       "49      4701 Cochran, Houston, TX 77009  180000             None  06/04/2017   \n",
       "\n",
       "   flood_plain_type  \n",
       "9                    \n",
       "14                   \n",
       "28                   \n",
       "40                   \n",
       "49                   "
      ]
     },
     "execution_count": 323,
     "metadata": {},
     "output_type": "execute_result"
    }
   ],
   "source": [
    "listings.head()"
   ]
  },
  {
   "cell_type": "code",
   "execution_count": 346,
   "metadata": {},
   "outputs": [],
   "source": [
    "for idx, row in listings2.iterrows():\n",
    "    if row['flood_plain_type']!= \"\":\n",
    "        continue\n",
    "    else:\n",
    "        #Click into address bar\n",
    "        pyautogui.click(20, 220, button='left')\n",
    "        #ctrl+a\n",
    "        pyautogui.keyDown('ctrl')\n",
    "        pyautogui.keyDown('a')\n",
    "        pyautogui.keyUp('a')\n",
    "        pyautogui.keyUp('ctrl')\n",
    "        #press delete\n",
    "        pyautogui.press('delete')\n",
    "        #enter new address\n",
    "        address = row['Page_Address']\n",
    "        pyautogui.typewrite(address)\n",
    "        # pyautogui.typewrite(\"1415 Bayou St, Houston, TX 77020\")\n",
    "        #press enter\n",
    "        pyautogui.press('enter')\n",
    "        time.sleep(1)\n",
    "        #check that address came up (a white textbox should appear)\n",
    "        pyautogui.moveTo(1087, 702, duration=0.25)\n",
    "        time.sleep(1)\n",
    "        x, y = pyautogui.position()\n",
    "        textboxColor = pyautogui.screenshot().getpixel((x, y))\n",
    "        r = textboxColor[0]\n",
    "        g = textboxColor[1]\n",
    "        b = textboxColor[2]\n",
    "        #if the textbox pops up, continue, else skip and mark missing\n",
    "        if r == 255 and g == 255 and b == 255:\n",
    "            #click out of info box\n",
    "            for i in range(50):\n",
    "                k = i*10\n",
    "                pyautogui.click(1100 + k,707,button=\"left\")\n",
    "            #\n",
    "            #corner 1\n",
    "            pyautogui.moveTo((1920/2)+106, (1200/2)+98, duration=0.25)\n",
    "            x, y = pyautogui.position()\n",
    "            pixelColor1 = pyautogui.screenshot().getpixel((x, y))\n",
    "            corner1 = check_flood_plain_colors(pixelColor1)\n",
    "            #corner 2\n",
    "            pyautogui.moveTo((1920/2)+106, (1200/2)+83, duration=0.25)\n",
    "            x, y = pyautogui.position()\n",
    "            pixelColor2 = pyautogui.screenshot().getpixel((x, y))\n",
    "            corner2 = check_flood_plain_colors(pixelColor2)\n",
    "            #corner 3\n",
    "            pyautogui.moveTo((1920/2)+128, (1200/2)+83, duration=0.25)\n",
    "            x, y = pyautogui.position()\n",
    "            pixelColor3 = pyautogui.screenshot().getpixel((x, y))\n",
    "            corner3 = check_flood_plain_colors(pixelColor3)\n",
    "            #corner 4\n",
    "            pyautogui.moveTo((1920/2)+128, (1200/2)+98, duration=0.25)\n",
    "            x, y = pyautogui.position()\n",
    "            pixelColor4 = pyautogui.screenshot().getpixel((x, y))\n",
    "            corner4 = check_flood_plain_colors(pixelColor4)\n",
    "            #\n",
    "            desc = max(corner1,corner2,corner3,corner4)\n",
    "            #\n",
    "            try:\n",
    "                del flood_plain_level\n",
    "            except:\n",
    "                pass\n",
    "\n",
    "            if desc == 0:\n",
    "                flood_plain_level = \"none\"\n",
    "            elif desc == 1:\n",
    "                flood_plain_level = \"500 year\"\n",
    "            elif desc == 2:\n",
    "                flood_plain_level = \"100 year\"\n",
    "            elif desc == 3:\n",
    "                flood_plain_level = \"floodway\"\n",
    "            #\n",
    "            listings2.set_value(idx,'flood_plain_type',flood_plain_level)\n",
    "        else:\n",
    "            listings2.set_value(idx,'flood_plain_type',\"not found\")"
   ]
  },
  {
   "cell_type": "code",
   "execution_count": 347,
   "metadata": {},
   "outputs": [
    {
     "data": {
      "text/plain": [
       "none         2338\n",
       "not found     316\n",
       "100 year      234\n",
       "500 year      201\n",
       "floodway       18\n",
       "Name: flood_plain_type, dtype: int64"
      ]
     },
     "execution_count": 347,
     "metadata": {},
     "output_type": "execute_result"
    }
   ],
   "source": [
    "listings2.flood_plain_type.value_counts(dropna=False)"
   ]
  },
  {
   "cell_type": "code",
   "execution_count": 349,
   "metadata": {},
   "outputs": [],
   "source": [
    "listings2.to_csv(dir+\"property_flood_zones.csv\")"
   ]
  },
  {
   "cell_type": "code",
   "execution_count": null,
   "metadata": {
    "collapsed": true
   },
   "outputs": [],
   "source": []
  }
 ],
 "metadata": {
  "kernelspec": {
   "display_name": "vanpy36",
   "language": "python",
   "name": "vanpy36"
  },
  "language_info": {
   "codemirror_mode": {
    "name": "ipython",
    "version": 3
   },
   "file_extension": ".py",
   "mimetype": "text/x-python",
   "name": "python",
   "nbconvert_exporter": "python",
   "pygments_lexer": "ipython3",
   "version": "3.6.0"
  },
  "toc": {
   "colors": {
    "hover_highlight": "#DAA520",
    "navigate_num": "#000000",
    "navigate_text": "#333333",
    "running_highlight": "#FF0000",
    "selected_highlight": "#FFD700",
    "sidebar_border": "#EEEEEE",
    "wrapper_background": "#FFFFFF"
   },
   "moveMenuLeft": true,
   "nav_menu": {
    "height": "85px",
    "width": "252px"
   },
   "navigate_menu": true,
   "number_sections": true,
   "sideBar": true,
   "threshold": 4,
   "toc_cell": false,
   "toc_section_display": "block",
   "toc_window_display": true,
   "widenNotebook": false
  }
 },
 "nbformat": 4,
 "nbformat_minor": 2
}
