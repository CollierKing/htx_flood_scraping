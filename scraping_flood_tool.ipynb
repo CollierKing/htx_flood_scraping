{
 "cells": [
  {
   "cell_type": "code",
   "execution_count": 19,
   "metadata": {
    "collapsed": true
   },
   "outputs": [],
   "source": [
    "import pyautogui\n",
    "import time\n",
    "import pandas as pd\n",
    "pd.options.display.max_rows = 999"
   ]
  },
  {
   "cell_type": "code",
   "execution_count": 3,
   "metadata": {},
   "outputs": [
    {
     "data": {
      "text/plain": [
       "(3164, 6)"
      ]
     },
     "execution_count": 3,
     "metadata": {},
     "output_type": "execute_result"
    }
   ],
   "source": [
    "dir = \"C:/Users/David/Dropbox/Skills/Python/Projects/Real_Estate/htx_real_estate_analysis/\"\n",
    "listings = pd.read_csv(dir+\"HAR_listings170922.csv\")\n",
    "listings = listings.drop_duplicates(subset=\"Page_Address\",keep=\"last\")\n",
    "listings.shape"
   ]
  },
  {
   "cell_type": "code",
   "execution_count": 4,
   "metadata": {
    "collapsed": true
   },
   "outputs": [],
   "source": [
    "dir2 = \"C:/Users/David/Dropbox/Skills/Python/Projects/Real_Estate/htx_flood_scraping/\"\n",
    "already_scraped = pd.read_csv(dir2+\"property_flood_zones.csv\")"
   ]
  },
  {
   "cell_type": "code",
   "execution_count": 7,
   "metadata": {},
   "outputs": [],
   "source": [
    "listings2 = listings[~listings['Page_Link'].isin(already_scraped['Page_Link'])]"
   ]
  },
  {
   "cell_type": "code",
   "execution_count": 8,
   "metadata": {},
   "outputs": [
    {
     "data": {
      "text/plain": [
       "(415, 6)"
      ]
     },
     "execution_count": 8,
     "metadata": {},
     "output_type": "execute_result"
    }
   ],
   "source": [
    "listings2.shape"
   ]
  },
  {
   "cell_type": "code",
   "execution_count": null,
   "metadata": {
    "collapsed": true
   },
   "outputs": [],
   "source": []
  },
  {
   "cell_type": "code",
   "execution_count": 243,
   "metadata": {
    "collapsed": true
   },
   "outputs": [],
   "source": [
    "#center of screen\n",
    "pyautogui.size()\n",
    "# (1920, 1080)\n",
    "width, height = pyautogui.size()"
   ]
  },
  {
   "cell_type": "markdown",
   "metadata": {},
   "source": [
    "http://www.harriscountyfemt.org/Index.aspx"
   ]
  },
  {
   "cell_type": "markdown",
   "metadata": {},
   "source": [
    "https://automatetheboringstuff.com/chapter18/"
   ]
  },
  {
   "cell_type": "markdown",
   "metadata": {},
   "source": [
    "## Click And Enter Address"
   ]
  },
  {
   "cell_type": "code",
   "execution_count": 298,
   "metadata": {
    "collapsed": true
   },
   "outputs": [],
   "source": [
    "#Click into address bar\n",
    "pyautogui.click(20, 220, button='left')\n",
    "\n",
    "#ctrl+a\n",
    "pyautogui.keyDown('ctrl')\n",
    "pyautogui.keyDown('a')\n",
    "pyautogui.keyUp('a')\n",
    "pyautogui.keyUp('ctrl')\n",
    "\n",
    "#press delete\n",
    "pyautogui.press('delete')\n",
    "#enter new address\n",
    "pyautogui.typewrite(\"3111 Wroxton, Houston, TX 77005\")\n",
    "# pyautogui.typewrite(\"1415 Bayou St, Houston, TX 77020\")\n",
    "#press enter\n",
    "pyautogui.press('enter')"
   ]
  },
  {
   "cell_type": "code",
   "execution_count": null,
   "metadata": {
    "collapsed": true
   },
   "outputs": [],
   "source": [
    "#ctrl+a\n",
    "pyautogui.keyDown('ctrl')\n",
    "pyautogui.keyDown('a')\n",
    "pyautogui.keyUp('a')\n",
    "pyautogui.keyUp('ctrl')"
   ]
  },
  {
   "cell_type": "code",
   "execution_count": 297,
   "metadata": {
    "collapsed": true
   },
   "outputs": [],
   "source": [
    "pyautogui.click(1000, 1500, button='left')\n",
    "pyautogui.dragTo(1000,500)"
   ]
  },
  {
   "cell_type": "code",
   "execution_count": 296,
   "metadata": {
    "collapsed": true
   },
   "outputs": [],
   "source": [
    "pyautogui.keyDown(\"left\")\n",
    "pyautogui.keyUp(\"left\")"
   ]
  },
  {
   "cell_type": "code",
   "execution_count": null,
   "metadata": {
    "collapsed": true
   },
   "outputs": [],
   "source": []
  },
  {
   "cell_type": "code",
   "execution_count": null,
   "metadata": {
    "collapsed": true
   },
   "outputs": [],
   "source": []
  },
  {
   "cell_type": "markdown",
   "metadata": {},
   "source": [
    "## Click out of info-box"
   ]
  },
  {
   "cell_type": "code",
   "execution_count": 269,
   "metadata": {
    "collapsed": true
   },
   "outputs": [],
   "source": [
    "pyautogui.click(1281,708,button=\"left\")\n",
    "pyautogui.click(1445,708,button=\"left\")"
   ]
  },
  {
   "cell_type": "markdown",
   "metadata": {},
   "source": [
    "## Check each corner around location"
   ]
  },
  {
   "cell_type": "code",
   "execution_count": 9,
   "metadata": {
    "collapsed": true
   },
   "outputs": [],
   "source": [
    "def check_flood_plain_colors(pixelColor):\n",
    "    r = pixelColor1[0]\n",
    "    g = pixelColor1[1]\n",
    "    b = pixelColor1[2]\n",
    "    \n",
    "    try:\n",
    "        del flood_plain\n",
    "    except:\n",
    "        pass\n",
    "\n",
    "    if r >= 170 and r <= 180: #check r\n",
    "        if g >= 200 and g <= 230: #check g\n",
    "            if b >= 190 and b <= 210: #check b\n",
    "                flood_plain = 1\n",
    "\n",
    "    if r >= 110 and r <= 125: #check r\n",
    "        if g >= 170 and g <= 190: #check g\n",
    "            if b >= 230 and b <= 255: #check b\n",
    "                flood_plain = 2\n",
    "\n",
    "    if r >= 0 and r <= 50: #check r\n",
    "        if g >= 0 and g <= 120: #check g\n",
    "            if b >= 230 and b <= 255: #check b\n",
    "                flood_plain = 3\n",
    "\n",
    "    try:\n",
    "        flood_plain\n",
    "    except NameError:\n",
    "        flood_plain = 0\n",
    "        \n",
    "    return flood_plain"
   ]
  },
  {
   "cell_type": "code",
   "execution_count": 239,
   "metadata": {
    "collapsed": true
   },
   "outputs": [],
   "source": [
    "#corner 1\n",
    "pyautogui.moveTo((1920/2)+106, (1200/2)+98, duration=0.25)\n",
    "x, y = pyautogui.position()\n",
    "pixelColor1 = pyautogui.screenshot().getpixel((x, y))\n",
    "corner1 = check_flood_plain_colors(pixelColor1)\n",
    "#corner 2\n",
    "pyautogui.moveTo((1920/2)+106, (1200/2)+83, duration=0.25)\n",
    "x, y = pyautogui.position()\n",
    "pixelColor2 = pyautogui.screenshot().getpixel((x, y))\n",
    "corner2 = check_flood_plain_colors(pixelColor2)\n",
    "#corner 3\n",
    "pyautogui.moveTo((1920/2)+128, (1200/2)+83, duration=0.25)\n",
    "x, y = pyautogui.position()\n",
    "pixelColor3 = pyautogui.screenshot().getpixel((x, y))\n",
    "corner3 = check_flood_plain_colors(pixelColor3)\n",
    "#corner 4\n",
    "pyautogui.moveTo((1920/2)+128, (1200/2)+98, duration=0.25)\n",
    "x, y = pyautogui.position()\n",
    "pixelColor4 = pyautogui.screenshot().getpixel((x, y))\n",
    "corner4 = check_flood_plain_colors(pixelColor4)"
   ]
  },
  {
   "cell_type": "code",
   "execution_count": 240,
   "metadata": {
    "collapsed": true
   },
   "outputs": [],
   "source": [
    "desc = max(corner1,corner2,corner3,corner4)"
   ]
  },
  {
   "cell_type": "code",
   "execution_count": 241,
   "metadata": {
    "collapsed": true
   },
   "outputs": [],
   "source": [
    "try:\n",
    "    del flood_plain_level\n",
    "except:\n",
    "    pass\n",
    "\n",
    "if desc == 0:\n",
    "    flood_plain_level = \"none\"\n",
    "elif desc == 1:\n",
    "    flood_plain_level = \"500 year\"\n",
    "elif desc == 2:\n",
    "    flood_plain_level = \"100 year\"\n",
    "elif desc == 3:\n",
    "    flood_plain_level = \"floodway\""
   ]
  },
  {
   "cell_type": "code",
   "execution_count": 242,
   "metadata": {},
   "outputs": [
    {
     "data": {
      "text/plain": [
       "'500 year'"
      ]
     },
     "execution_count": 242,
     "metadata": {},
     "output_type": "execute_result"
    }
   ],
   "source": [
    "flood_plain_level"
   ]
  },
  {
   "cell_type": "code",
   "execution_count": 318,
   "metadata": {
    "collapsed": true
   },
   "outputs": [],
   "source": [
    "for i in range(50):\n",
    "    k = i*10\n",
    "    pyautogui.click(1100 + k,707,button=\"left\")"
   ]
  },
  {
   "cell_type": "markdown",
   "metadata": {},
   "source": [
    "## Loop"
   ]
  },
  {
   "cell_type": "code",
   "execution_count": 12,
   "metadata": {},
   "outputs": [
    {
     "name": "stderr",
     "output_type": "stream",
     "text": [
      "C:\\Users\\David\\lib\\site-packages\\ipykernel_launcher.py:1: SettingWithCopyWarning: \n",
      "A value is trying to be set on a copy of a slice from a DataFrame.\n",
      "Try using .loc[row_indexer,col_indexer] = value instead\n",
      "\n",
      "See the caveats in the documentation: http://pandas.pydata.org/pandas-docs/stable/indexing.html#indexing-view-versus-copy\n",
      "  \"\"\"Entry point for launching an IPython kernel.\n",
      "C:\\Users\\David\\lib\\site-packages\\ipykernel_launcher.py:2: SettingWithCopyWarning: \n",
      "A value is trying to be set on a copy of a slice from a DataFrame.\n",
      "Try using .loc[row_indexer,col_indexer] = value instead\n",
      "\n",
      "See the caveats in the documentation: http://pandas.pydata.org/pandas-docs/stable/indexing.html#indexing-view-versus-copy\n",
      "  \n"
     ]
    }
   ],
   "source": [
    "listings2['flood_plain_type'] = \"\"\n",
    "listings2['flood_plain_type'] = listings2['flood_plain_type'].astype(str)"
   ]
  },
  {
   "cell_type": "code",
   "execution_count": 13,
   "metadata": {},
   "outputs": [
    {
     "data": {
      "text/html": [
       "<div>\n",
       "<style>\n",
       "    .dataframe thead tr:only-child th {\n",
       "        text-align: right;\n",
       "    }\n",
       "\n",
       "    .dataframe thead th {\n",
       "        text-align: left;\n",
       "    }\n",
       "\n",
       "    .dataframe tbody tr th {\n",
       "        vertical-align: top;\n",
       "    }\n",
       "</style>\n",
       "<table border=\"1\" class=\"dataframe\">\n",
       "  <thead>\n",
       "    <tr style=\"text-align: right;\">\n",
       "      <th></th>\n",
       "      <th>Unnamed: 0</th>\n",
       "      <th>Page_Link</th>\n",
       "      <th>Page_Address</th>\n",
       "      <th>Price</th>\n",
       "      <th>Price_Change</th>\n",
       "      <th>Sys_Date</th>\n",
       "      <th>flood_plain_type</th>\n",
       "    </tr>\n",
       "  </thead>\n",
       "  <tbody>\n",
       "    <tr>\n",
       "      <th>6047</th>\n",
       "      <td>6047</td>\n",
       "      <td>http://www.har.com/307-ennis/sale_99594469</td>\n",
       "      <td>307 Ennis, Houston, TX 77003</td>\n",
       "      <td>199900</td>\n",
       "      <td>None</td>\n",
       "      <td>08/26/2017</td>\n",
       "      <td></td>\n",
       "    </tr>\n",
       "    <tr>\n",
       "      <th>6049</th>\n",
       "      <td>6049</td>\n",
       "      <td>http://www.har.com/1260-w-23rd-st/sale_15179726</td>\n",
       "      <td>1260 W 23rd St, Houston, TX 77008</td>\n",
       "      <td>364900</td>\n",
       "      <td>None</td>\n",
       "      <td>08/26/2017</td>\n",
       "      <td></td>\n",
       "    </tr>\n",
       "    <tr>\n",
       "      <th>6051</th>\n",
       "      <td>6051</td>\n",
       "      <td>http://www.har.com/1117-w-16th-st/sale_21129244</td>\n",
       "      <td>1117 W 16th St, Houston, TX 77008</td>\n",
       "      <td>444500</td>\n",
       "      <td>None</td>\n",
       "      <td>08/26/2017</td>\n",
       "      <td></td>\n",
       "    </tr>\n",
       "    <tr>\n",
       "      <th>6052</th>\n",
       "      <td>6052</td>\n",
       "      <td>http://www.har.com/3203-n-main-st/sale_83185119</td>\n",
       "      <td>3203 N Main St, Houston, TX 77009</td>\n",
       "      <td>499999</td>\n",
       "      <td>None</td>\n",
       "      <td>08/26/2017</td>\n",
       "      <td></td>\n",
       "    </tr>\n",
       "    <tr>\n",
       "      <th>6068</th>\n",
       "      <td>6068</td>\n",
       "      <td>http://www.har.com/4514-w-43rd-st/sale_25780821</td>\n",
       "      <td>4514 W 43rd St, Houston, TX 77092</td>\n",
       "      <td>200000</td>\n",
       "      <td>None</td>\n",
       "      <td>08/27/2017</td>\n",
       "      <td></td>\n",
       "    </tr>\n",
       "  </tbody>\n",
       "</table>\n",
       "</div>"
      ],
      "text/plain": [
       "      Unnamed: 0                                        Page_Link  \\\n",
       "6047        6047       http://www.har.com/307-ennis/sale_99594469   \n",
       "6049        6049  http://www.har.com/1260-w-23rd-st/sale_15179726   \n",
       "6051        6051  http://www.har.com/1117-w-16th-st/sale_21129244   \n",
       "6052        6052  http://www.har.com/3203-n-main-st/sale_83185119   \n",
       "6068        6068  http://www.har.com/4514-w-43rd-st/sale_25780821   \n",
       "\n",
       "                           Page_Address   Price Price_Change    Sys_Date  \\\n",
       "6047       307 Ennis, Houston, TX 77003  199900         None  08/26/2017   \n",
       "6049  1260 W 23rd St, Houston, TX 77008  364900         None  08/26/2017   \n",
       "6051  1117 W 16th St, Houston, TX 77008  444500         None  08/26/2017   \n",
       "6052  3203 N Main St, Houston, TX 77009  499999         None  08/26/2017   \n",
       "6068  4514 W 43rd St, Houston, TX 77092  200000         None  08/27/2017   \n",
       "\n",
       "     flood_plain_type  \n",
       "6047                   \n",
       "6049                   \n",
       "6051                   \n",
       "6052                   \n",
       "6068                   "
      ]
     },
     "execution_count": 13,
     "metadata": {},
     "output_type": "execute_result"
    }
   ],
   "source": [
    "listings2.head()"
   ]
  },
  {
   "cell_type": "code",
   "execution_count": 32,
   "metadata": {},
   "outputs": [],
   "source": [
    "for idx, row in listings3.iterrows():\n",
    "    if row['flood_plain_type']!= \"not found\":\n",
    "        continue\n",
    "    else:\n",
    "        #Click into address bar\n",
    "        pyautogui.click(20, 220, button='left')\n",
    "        #ctrl+a\n",
    "        pyautogui.keyDown('ctrl')\n",
    "        pyautogui.keyDown('a')\n",
    "        pyautogui.keyUp('a')\n",
    "        pyautogui.keyUp('ctrl')\n",
    "        #press delete\n",
    "        pyautogui.press('delete')\n",
    "        #enter new address\n",
    "        address = row['Page_Address']\n",
    "        pyautogui.typewrite(address)\n",
    "        # pyautogui.typewrite(\"1415 Bayou St, Houston, TX 77020\")\n",
    "        #press enter\n",
    "        pyautogui.press('enter')\n",
    "        time.sleep(1)\n",
    "        #check that address came up (a white textbox should appear)\n",
    "        pyautogui.moveTo(1087, 702, duration=0.25)\n",
    "        time.sleep(1)\n",
    "        x, y = pyautogui.position()\n",
    "        textboxColor = pyautogui.screenshot().getpixel((x, y))\n",
    "        r = textboxColor[0]\n",
    "        g = textboxColor[1]\n",
    "        b = textboxColor[2]\n",
    "        #if the textbox pops up, continue, else skip and mark missing\n",
    "        if r == 255 and g == 255 and b == 255:\n",
    "            #click out of info box\n",
    "            for i in range(50):\n",
    "                k = i*10\n",
    "                pyautogui.click(1100 + k,707,button=\"left\")\n",
    "            #\n",
    "            #corner 1\n",
    "            pyautogui.moveTo((1920/2)+106, (1200/2)+98, duration=0.25)\n",
    "            x, y = pyautogui.position()\n",
    "            pixelColor1 = pyautogui.screenshot().getpixel((x, y))\n",
    "            corner1 = check_flood_plain_colors(pixelColor1)\n",
    "            #corner 2\n",
    "            pyautogui.moveTo((1920/2)+106, (1200/2)+83, duration=0.25)\n",
    "            x, y = pyautogui.position()\n",
    "            pixelColor2 = pyautogui.screenshot().getpixel((x, y))\n",
    "            corner2 = check_flood_plain_colors(pixelColor2)\n",
    "            #corner 3\n",
    "            pyautogui.moveTo((1920/2)+128, (1200/2)+83, duration=0.25)\n",
    "            x, y = pyautogui.position()\n",
    "            pixelColor3 = pyautogui.screenshot().getpixel((x, y))\n",
    "            corner3 = check_flood_plain_colors(pixelColor3)\n",
    "            #corner 4\n",
    "            pyautogui.moveTo((1920/2)+128, (1200/2)+98, duration=0.25)\n",
    "            x, y = pyautogui.position()\n",
    "            pixelColor4 = pyautogui.screenshot().getpixel((x, y))\n",
    "            corner4 = check_flood_plain_colors(pixelColor4)\n",
    "            #\n",
    "            desc = max(corner1,corner2,corner3,corner4)\n",
    "            #\n",
    "            try:\n",
    "                del flood_plain_level\n",
    "            except:\n",
    "                pass\n",
    "\n",
    "            if desc == 0:\n",
    "                flood_plain_level = \"none\"\n",
    "            elif desc == 1:\n",
    "                flood_plain_level = \"500 year\"\n",
    "            elif desc == 2:\n",
    "                flood_plain_level = \"100 year\"\n",
    "            elif desc == 3:\n",
    "                flood_plain_level = \"floodway\"\n",
    "            #\n",
    "            listings3.set_value(idx,'flood_plain_type',flood_plain_level)\n",
    "        else:\n",
    "            listings3.set_value(idx,'flood_plain_type',\"not found\")"
   ]
  },
  {
   "cell_type": "code",
   "execution_count": 27,
   "metadata": {
    "collapsed": true
   },
   "outputs": [],
   "source": [
    "listings3 = listings2[listings2['flood_plain_type']==\"not found\"]"
   ]
  },
  {
   "cell_type": "code",
   "execution_count": 34,
   "metadata": {},
   "outputs": [],
   "source": [
    "listings_export = pd.concat([listings2,listings3])"
   ]
  },
  {
   "cell_type": "code",
   "execution_count": 35,
   "metadata": {
    "collapsed": true
   },
   "outputs": [],
   "source": [
    "listings_export = listings_export[listings_export['flood_plain_type']!=\"not found\"]"
   ]
  },
  {
   "cell_type": "code",
   "execution_count": 37,
   "metadata": {},
   "outputs": [],
   "source": [
    "listings_export.drop_duplicates(subset=\"Page_Link\",keep=\"last\",inplace=True)"
   ]
  },
  {
   "cell_type": "code",
   "execution_count": 38,
   "metadata": {},
   "outputs": [
    {
     "data": {
      "text/plain": [
       "(380, 7)"
      ]
     },
     "execution_count": 38,
     "metadata": {},
     "output_type": "execute_result"
    }
   ],
   "source": [
    "listings_export.shape"
   ]
  },
  {
   "cell_type": "code",
   "execution_count": 39,
   "metadata": {
    "collapsed": true
   },
   "outputs": [],
   "source": [
    "listings_export.to_csv(dir+\"property_flood_zones2.csv\")"
   ]
  },
  {
   "cell_type": "code",
   "execution_count": 40,
   "metadata": {},
   "outputs": [
    {
     "data": {
      "text/plain": [
       "'C:/Users/David/Dropbox/Skills/Python/Projects/Real_Estate/htx_real_estate_analysis/'"
      ]
     },
     "execution_count": 40,
     "metadata": {},
     "output_type": "execute_result"
    }
   ],
   "source": [
    "dir"
   ]
  }
 ],
 "metadata": {
  "kernelspec": {
   "display_name": "vanpy36",
   "language": "python",
   "name": "vanpy36"
  },
  "language_info": {
   "codemirror_mode": {
    "name": "ipython",
    "version": 3
   },
   "file_extension": ".py",
   "mimetype": "text/x-python",
   "name": "python",
   "nbconvert_exporter": "python",
   "pygments_lexer": "ipython3",
   "version": "3.6.0"
  },
  "toc": {
   "colors": {
    "hover_highlight": "#DAA520",
    "navigate_num": "#000000",
    "navigate_text": "#333333",
    "running_highlight": "#FF0000",
    "selected_highlight": "#FFD700",
    "sidebar_border": "#EEEEEE",
    "wrapper_background": "#FFFFFF"
   },
   "moveMenuLeft": true,
   "nav_menu": {
    "height": "85px",
    "width": "252px"
   },
   "navigate_menu": true,
   "number_sections": true,
   "sideBar": true,
   "threshold": 4,
   "toc_cell": false,
   "toc_section_display": "block",
   "toc_window_display": true,
   "widenNotebook": false
  }
 },
 "nbformat": 4,
 "nbformat_minor": 2
}
